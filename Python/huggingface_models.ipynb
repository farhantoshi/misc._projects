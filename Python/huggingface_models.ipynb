{
 "cells": [
  {
   "cell_type": "code",
   "execution_count": 10,
   "id": "fe094279-8352-4033-9d80-44bc684f7bd7",
   "metadata": {},
   "outputs": [],
   "source": [
    "import requests\n",
    "\n",
    "API_URL = \"https://api-inference.huggingface.co/models/Hello-SimpleAI/chatgpt-detector-roberta\"\n",
    "headers = {\"Authorization\": \"Bearer API KEY\"}\n",
    "\n",
    "def query(payload):\n",
    "\tresponse = requests.post(API_URL, headers=headers, json=payload)\n",
    "\treturn response.json()\n",
    "\t\n",
    "output = query({\n",
    "\t\"inputs\": \"Religion, a complex and multifaceted aspect of human culture, has played a central role in shaping societies, influencing individual beliefs, and providing a framework for understanding the mysteries of existence. Throughout history, diverse religions have emerged, each offering unique perspectives on the divine, morality, and the purpose of life. These belief systems often serve as a source of solace, guidance, and community for their adherents, fostering a sense of identity and belonging. Simultaneously, religion has been a catalyst for both profound acts of compassion and divisive conflicts, illustrating its profound impact on human behavior and global affairs.\",\n",
    "})"
   ]
  },
  {
   "cell_type": "code",
   "execution_count": 11,
   "id": "457892e0-1529-46ef-8288-98939d4dabc0",
   "metadata": {},
   "outputs": [
    {
     "name": "stdout",
     "output_type": "stream",
     "text": [
      "[[{'label': 'ChatGPT', 'score': 0.9991029500961304}, {'label': 'Human', 'score': 0.0008971120696514845}]]\n"
     ]
    }
   ],
   "source": [
    "print(output)"
   ]
  },
  {
   "cell_type": "code",
   "execution_count": 12,
   "id": "b881ba33-825c-4984-98bf-e9b38b80caf9",
   "metadata": {},
   "outputs": [],
   "source": [
    "import requests\n",
    "\n",
    "API_URL = \"https://api-inference.huggingface.co/models/Hello-SimpleAI/chatgpt-detector-roberta\"\n",
    "headers = {\"Authorization\": \"Bearer API KEY\"}\n",
    "\n",
    "def query(payload):\n",
    "\tresponse = requests.post(API_URL, headers=headers, json=payload)\n",
    "\treturn response.json()\n",
    "\t\n",
    "output2 = query({\n",
    "\t\"inputs\": \"A complicated and multidimensional part of human civilization, religion has been crucial in forming civilizations, affecting personal views, and offering a framework for deciphering the secrets of life. Numerous faiths have arisen throughout history, each with its own viewpoints on the divine, morality, and the meaning of life. For those who follow them, these belief systems frequently provide comfort, direction, and a feeling of community, helping them to feel like they belong. Religion has a significant influence on human behavior and international politics, as seen by the fact that it has simultaneously sparked both great acts of compassion and polarizing hostilities.\",\n",
    "})"
   ]
  },
  {
   "cell_type": "code",
   "execution_count": 13,
   "id": "c19eefdf-2804-4557-8172-97938fb99998",
   "metadata": {},
   "outputs": [
    {
     "name": "stdout",
     "output_type": "stream",
     "text": [
      "[[{'label': 'ChatGPT', 'score': 0.9991400241851807}, {'label': 'Human', 'score': 0.0008599803550168872}]]\n"
     ]
    }
   ],
   "source": [
    "print(output2)"
   ]
  },
  {
   "cell_type": "code",
   "execution_count": 14,
   "id": "5a182ad4-b643-4083-9256-28aa3184f381",
   "metadata": {},
   "outputs": [],
   "source": [
    "# Sandy's paragraph\n",
    "import requests\n",
    "\n",
    "API_URL = \"https://api-inference.huggingface.co/models/Hello-SimpleAI/chatgpt-detector-roberta\"\n",
    "headers = {\"Authorization\": \"Bearer API KEY\"}\n",
    "\n",
    "def query(payload):\n",
    "\tresponse = requests.post(API_URL, headers=headers, json=payload)\n",
    "\treturn response.json()\n",
    "\t\n",
    "output3 = query({\n",
    "\t\"inputs\": \"Princess Mononoke, which was released in 1997 and immediately became the highest-grossing film at the time, can be considered most direct approach to environmentalism in the form of visual image by studio Ghibli. The fight between princess Mononoke, part of the wolves acting as the forest guards, and Lady Eboshi, the owner of the iron factory, who was cutting down the forests, represented  the clash between nature and human society that was going through industrialization. This reflects the rationale that humans in pursuit of materalistic values will disregard the interconnectedness between themselves and nature, which is opposite the intrinsic values often emphasized in Shinto beliefs, which worship many gods from nature.\",\n",
    "})"
   ]
  },
  {
   "cell_type": "code",
   "execution_count": 15,
   "id": "4c29e8c6-33e5-4aa8-90be-93e08312db6b",
   "metadata": {},
   "outputs": [
    {
     "name": "stdout",
     "output_type": "stream",
     "text": [
      "[[{'label': 'Human', 'score': 0.9968883395195007}, {'label': 'ChatGPT', 'score': 0.0031116206664592028}]]\n"
     ]
    }
   ],
   "source": [
    "print(output3)"
   ]
  },
  {
   "cell_type": "code",
   "execution_count": 16,
   "id": "e31c9903-32e3-4baf-89a8-4295136becc6",
   "metadata": {},
   "outputs": [],
   "source": [
    "import requests\n",
    "\n",
    "API_URL = \"https://api-inference.huggingface.co/models/Hello-SimpleAI/chatgpt-detector-roberta\"\n",
    "headers = {\"Authorization\": \"Bearer API KEY\"}\n",
    "\n",
    "def query(payload):\n",
    "\tresponse = requests.post(API_URL, headers=headers, json=payload)\n",
    "\treturn response.json()\n",
    "\t\n",
    "output4 = query({\n",
    "\t\"inputs\": \"Princess Mononoke, released in 1997 and swiftly becoming the highest-grossing film of its time, stands out as Studio Ghibli's most explicit foray into environmentalism through visual storytelling. The film portrays a conflict between Princess Mononoke, aligned with the wolves safeguarding the forest, and Lady Eboshi, the proprietor of an iron factory responsible for deforestation—a symbolic clash between nature and an industrializing human society. This narrative encapsulates the idea that the pursuit of materialistic values by humans can lead to a disregard for the interconnectedness between humanity and nature, a departure from the intrinsic values emphasized in Shinto beliefs, which revere numerous nature gods.\",\n",
    "})"
   ]
  },
  {
   "cell_type": "code",
   "execution_count": 17,
   "id": "7a7f97ca-b2e8-49d8-a06f-6e16ea56d1c1",
   "metadata": {},
   "outputs": [
    {
     "name": "stdout",
     "output_type": "stream",
     "text": [
      "[[{'label': 'Human', 'score': 0.9634166955947876}, {'label': 'ChatGPT', 'score': 0.03658326715230942}]]\n"
     ]
    }
   ],
   "source": [
    "print(output4)"
   ]
  },
  {
   "cell_type": "markdown",
   "id": "bff3af6c-67a6-4e90-9706-7b24db7f9a63",
   "metadata": {},
   "source": [
    "Princess Mononoke, which was released in 1997 and immediately became the highest-grossing film at the time, can be considered most direct approach to environmentalism in the form of visual image by studio Ghibli. A complicated and multidimensional part of human civilization, religion has been crucial in forming civilizations, affecting personal views, and offering a framework for deciphering the secrets of life."
   ]
  },
  {
   "cell_type": "code",
   "execution_count": 18,
   "id": "dce75b70-6e89-4a0f-b931-1a1005296260",
   "metadata": {},
   "outputs": [],
   "source": [
    "import requests\n",
    "\n",
    "API_URL = \"https://api-inference.huggingface.co/models/Hello-SimpleAI/chatgpt-detector-roberta\"\n",
    "headers = {\"Authorization\": \"Bearer API KEY\"}\n",
    "\n",
    "def query(payload):\n",
    "\tresponse = requests.post(API_URL, headers=headers, json=payload)\n",
    "\treturn response.json()\n",
    "\t\n",
    "output5 = query({\n",
    "\t\"inputs\": \"Princess Mononoke, which was released in 1997 and immediately became the highest-grossing film at the time, can be considered most direct approach to environmentalism in the form of visual image by studio Ghibli. A complicated and multidimensional part of human civilization, religion has been crucial in forming civilizations, affecting personal views, and offering a framework for deciphering the secrets of life.\",\n",
    "})"
   ]
  },
  {
   "cell_type": "code",
   "execution_count": 19,
   "id": "b973a8da-16b3-48b1-b477-e12e21ad5dca",
   "metadata": {},
   "outputs": [
    {
     "name": "stdout",
     "output_type": "stream",
     "text": [
      "[[{'label': 'Human', 'score': 0.7152689695358276}, {'label': 'ChatGPT', 'score': 0.28473103046417236}]]\n"
     ]
    }
   ],
   "source": [
    "print(output5)"
   ]
  },
  {
   "cell_type": "markdown",
   "id": "1122db09-9060-4f78-8377-99c5220eb72e",
   "metadata": {},
   "source": [
    "What is Hugging Face and why is it important?\n",
    "How can pretrained models accelerate data science and AI research?"
   ]
  },
  {
   "cell_type": "code",
   "execution_count": 1,
   "id": "a3d9b395-e6db-4d15-82b4-ab999e065fed",
   "metadata": {},
   "outputs": [],
   "source": [
    "import requests\n",
    "\n",
    "API_URL = \"https://api-inference.huggingface.co/models/Hello-SimpleAI/chatgpt-detector-roberta\"\n",
    "headers = {\"Authorization\": \"Bearer API KEY\"}\n",
    "\n",
    "def query(payload):\n",
    "\tresponse = requests.post(API_URL, headers=headers, json=payload)\n",
    "\treturn response.json()\n",
    "\t\n",
    "output6 = query({\n",
    "\t\"inputs\": \"What is Hugging Face and why is it important? How can pretrained models accelerate data science and AI research?\",\n",
    "})"
   ]
  },
  {
   "cell_type": "code",
   "execution_count": 2,
   "id": "b62851a2-3a96-44fd-8dff-8e0fe0bba245",
   "metadata": {},
   "outputs": [
    {
     "name": "stdout",
     "output_type": "stream",
     "text": [
      "[[{'label': 'Human', 'score': 0.9891670942306519}, {'label': 'ChatGPT', 'score': 0.010832848027348518}]]\n"
     ]
    }
   ],
   "source": [
    "print(output6)"
   ]
  },
  {
   "cell_type": "code",
   "execution_count": 10,
   "id": "8d8926bf-7a49-4672-b1ff-209c65e2763f",
   "metadata": {},
   "outputs": [],
   "source": [
    "import requests\n",
    "\n",
    "API_URL = \"https://api-inference.huggingface.co/models/Hello-SimpleAI/chatgpt-detector-roberta\"\n",
    "headers = {\"Authorization\": \"Bearer API KEY\"}\n",
    "\n",
    "def query(payload):\n",
    "\tresponse = requests.post(API_URL, headers=headers, json=payload)\n",
    "\treturn response.json()\n",
    "\t\n",
    "output7 = query({\n",
    "\t\"inputs\": \"In conclusion, the internet is a vast repository of diverse information from various sources, encompassing articles, images, videos, and more. It also facilitates user interactions like shopping and socializing. The surface web offers quick access to information, global communication, financial management, online shopping, and entertainment like music and videos, but user identities are traceable via IP addresses. The dark web, a subset of the deep web, requires specific browsers for access and hosts inaccessible websites such as The Onion Router (Tor). It provides anonymity for accessing cybersecurity tools and cryptocurrency services but is also associated with illegal activities like child pornography, restricted content, black markets, and trading of unlawful goods. As for the user profiles, the internet caters to a diverse range of users, from those using it for socializing and entertainment to others establishing online businesses. Conversely, the dark web is frequently linked with illegal activities like fraud and trafficking, but it also harbors non-illegal users such as cybersecurity researchers and whistleblowers. The dark web is often misunderstood and judged hastily, but it is merely a tool for online anonymity. Traditional moral codes may not universally apply to the dark web, as their regulation is loose, but they still pertain to individual actions. Furthermore, while no specific laws govern its usage, traditional legal principles still apply to criminal actions on the dark web.\",\n",
    "})"
   ]
  },
  {
   "cell_type": "code",
   "execution_count": 12,
   "id": "7d8883de-c201-4709-b949-bd12f94b8e31",
   "metadata": {
    "tags": []
   },
   "outputs": [
    {
     "name": "stdout",
     "output_type": "stream",
     "text": [
      "[[{'label': 'Human', 'score': 0.7234330177307129}, {'label': 'ChatGPT', 'score': 0.2765669524669647}]]\n"
     ]
    }
   ],
   "source": [
    "print(output7)"
   ]
  },
  {
   "cell_type": "code",
   "execution_count": null,
   "id": "e762030c-3827-46ad-9144-f26fe13ce077",
   "metadata": {},
   "outputs": [],
   "source": []
  }
 ],
 "metadata": {
  "kernelspec": {
   "display_name": "Python 3 (ipykernel)",
   "language": "python",
   "name": "python3"
  },
  "language_info": {
   "codemirror_mode": {
    "name": "ipython",
    "version": 3
   },
   "file_extension": ".py",
   "mimetype": "text/x-python",
   "name": "python",
   "nbconvert_exporter": "python",
   "pygments_lexer": "ipython3",
   "version": "3.11.5"
  }
 },
 "nbformat": 4,
 "nbformat_minor": 5
}
